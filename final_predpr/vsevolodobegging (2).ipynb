{
 "cells": [
  {
   "cell_type": "code",
   "execution_count": 30,
   "id": "7952e63a-50ad-4548-ba90-5139335284cd",
   "metadata": {},
   "outputs": [],
   "source": [
    "import pandas as pd"
   ]
  },
  {
   "cell_type": "code",
   "execution_count": 31,
   "id": "faa780d0-26b1-4647-8d28-2d825fe20d6b",
   "metadata": {},
   "outputs": [],
   "source": [
    "data1 = pd.read_csv(\"baseline_submission_case3.csv\")\n",
    "data3 = pd.read_csv(\"baseline_submission_case9.csv\")"
   ]
  },
  {
   "cell_type": "code",
   "execution_count": 32,
   "id": "2a3cc997-9fc8-4360-bc46-6ed88efa149e",
   "metadata": {},
   "outputs": [],
   "source": [
    "data1[\"target\"] = data1[\"target\"] + data3[\"target\"] + data4[\"target\"]"
   ]
  },
  {
   "cell_type": "code",
   "execution_count": 33,
   "id": "be244d74-22d8-43cf-96a4-cb50ad0ddefe",
   "metadata": {},
   "outputs": [],
   "source": [
    "data1[\"target\"] = data1[\"target\"]/3"
   ]
  },
  {
   "cell_type": "code",
   "execution_count": 34,
   "id": "5e5c0790-3501-4f27-94de-d2f311bd1620",
   "metadata": {},
   "outputs": [],
   "source": [
    "data_final = data1"
   ]
  },
  {
   "cell_type": "code",
   "execution_count": 35,
   "id": "223c8b92-05f6-459d-941c-569061bf268d",
   "metadata": {},
   "outputs": [],
   "source": [
    "data_final.to_csv(\"submission_final.csv\", index = False)"
   ]
  },
  {
   "cell_type": "code",
   "execution_count": null,
   "id": "4ba038bb-b30f-4363-8342-adedc0c5a2ea",
   "metadata": {},
   "outputs": [],
   "source": []
  }
 ],
 "metadata": {
  "kernelspec": {
   "display_name": "Python 3 (ipykernel)",
   "language": "python",
   "name": "python3"
  },
  "language_info": {
   "codemirror_mode": {
    "name": "ipython",
    "version": 3
   },
   "file_extension": ".py",
   "mimetype": "text/x-python",
   "name": "python",
   "nbconvert_exporter": "python",
   "pygments_lexer": "ipython3",
   "version": "3.10.11"
  }
 },
 "nbformat": 4,
 "nbformat_minor": 5
}
