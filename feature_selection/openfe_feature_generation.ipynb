{
  "cells": [
    {
      "cell_type": "code",
      "execution_count": null,
      "metadata": {
        "colab": {
          "base_uri": "https://localhost:8080/"
        },
        "id": "v31XucNPnoO7",
        "outputId": "45986a29-e858-4468-f796-fdda3a52dd23"
      },
      "outputs": [
        {
          "output_type": "stream",
          "name": "stdout",
          "text": [
            "Collecting openfe\n",
            "  Downloading openfe-0.0.12-py3-none-any.whl.metadata (667 bytes)\n",
            "Requirement already satisfied: numpy>=1.19.3 in /usr/local/lib/python3.10/dist-packages (from openfe) (1.26.4)\n",
            "Requirement already satisfied: pandas>=1.1.5 in /usr/local/lib/python3.10/dist-packages (from openfe) (2.2.2)\n",
            "Requirement already satisfied: scikit-learn>=0.24.2 in /usr/local/lib/python3.10/dist-packages (from openfe) (1.5.2)\n",
            "Requirement already satisfied: lightgbm>=3.3.2 in /usr/local/lib/python3.10/dist-packages (from openfe) (4.5.0)\n",
            "Requirement already satisfied: scipy>=1.5.4 in /usr/local/lib/python3.10/dist-packages (from openfe) (1.13.1)\n",
            "Requirement already satisfied: tqdm in /usr/local/lib/python3.10/dist-packages (from openfe) (4.66.6)\n",
            "Requirement already satisfied: pyarrow in /usr/local/lib/python3.10/dist-packages (from openfe) (17.0.0)\n",
            "Requirement already satisfied: python-dateutil>=2.8.2 in /usr/local/lib/python3.10/dist-packages (from pandas>=1.1.5->openfe) (2.8.2)\n",
            "Requirement already satisfied: pytz>=2020.1 in /usr/local/lib/python3.10/dist-packages (from pandas>=1.1.5->openfe) (2024.2)\n",
            "Requirement already satisfied: tzdata>=2022.7 in /usr/local/lib/python3.10/dist-packages (from pandas>=1.1.5->openfe) (2024.2)\n",
            "Requirement already satisfied: joblib>=1.2.0 in /usr/local/lib/python3.10/dist-packages (from scikit-learn>=0.24.2->openfe) (1.4.2)\n",
            "Requirement already satisfied: threadpoolctl>=3.1.0 in /usr/local/lib/python3.10/dist-packages (from scikit-learn>=0.24.2->openfe) (3.5.0)\n",
            "Requirement already satisfied: six>=1.5 in /usr/local/lib/python3.10/dist-packages (from python-dateutil>=2.8.2->pandas>=1.1.5->openfe) (1.16.0)\n",
            "Downloading openfe-0.0.12-py3-none-any.whl (21 kB)\n",
            "Installing collected packages: openfe\n",
            "Successfully installed openfe-0.0.12\n"
          ]
        }
      ],
      "source": [
        "!pip install --upgrade openfe"
      ]
    },
    {
      "cell_type": "code",
      "source": [
        "from google.colab import drive\n",
        "drive.mount('/content/drive')"
      ],
      "metadata": {
        "colab": {
          "base_uri": "https://localhost:8080/"
        },
        "id": "OmjI7IzsqHXu",
        "outputId": "96743417-47bc-4aab-fe11-d77fbc58766f"
      },
      "execution_count": null,
      "outputs": [
        {
          "output_type": "stream",
          "name": "stdout",
          "text": [
            "Drive already mounted at /content/drive; to attempt to forcibly remount, call drive.mount(\"/content/drive\", force_remount=True).\n"
          ]
        }
      ]
    },
    {
      "cell_type": "code",
      "source": [
        "from sklearn.metrics import roc_auc_score\n",
        "from sklearn.model_selection import train_test_split, StratifiedKFold\n",
        "import numpy as np\n",
        "import pandas as pd\n",
        "\n",
        "train = pd.read_parquet(\"PATH TO train.parquet\")\n",
        "test = pd.read_parquet(\"PATH TO test.parquet\")\n",
        "\n",
        "columns_to_drop = ['id', 'smpl'] + ['feature_3', 'feature_5', 'feature_10', 'feature_14', 'feature_15',\n",
        "       'feature_17', 'feature_20', 'feature_22', 'feature_23',\n",
        "       'feature_26', 'feature_36', 'feature_43', 'feature_46',\n",
        "       'feature_48', 'feature_49', 'feature_54', 'feature_55',\n",
        "       'feature_70', 'feature_77', 'feature_89', 'feature_92',\n",
        "       'feature_98', 'feature_101', 'feature_115', 'feature_125',\n",
        "       'feature_126', 'feature_130', 'feature_132', 'feature_133',\n",
        "       'feature_135', 'feature_149', 'feature_151', 'feature_153',\n",
        "       'feature_155', 'feature_156', 'feature_157', 'feature_181',\n",
        "       'feature_187', 'feature_203', 'feature_206', 'feature_207',\n",
        "       'feature_210', 'feature_231', 'feature_240', 'feature_242',\n",
        "       'feature_244', 'feature_248', 'feature_252', 'feature_255',\n",
        "       'feature_270', 'feature_287', 'feature_292', 'feature_308',\n",
        "       'feature_330', 'feature_341', 'feature_348', 'feature_350',\n",
        "       'feature_352', 'feature_368', 'feature_372', 'feature_381',\n",
        "       'feature_396', 'feature_404', 'feature_405', 'feature_406',\n",
        "       'feature_410', 'feature_411', 'feature_415'] + ['feature_4',\n",
        "       'feature_12', 'feature_25', 'feature_57',\n",
        "       'feature_60', 'feature_66', 'feature_72', 'feature_82',\n",
        "       'feature_91', 'feature_102', 'feature_105', 'feature_137',\n",
        "       'feature_142', 'feature_165', 'feature_176', 'feature_179',\n",
        "       'feature_197', 'feature_198', 'feature_200', 'feature_246',\n",
        "       'feature_249', 'feature_254', 'feature_262', 'feature_276',\n",
        "       'feature_289', 'feature_299', 'feature_305', 'feature_306',\n",
        "       'feature_312', 'feature_322', 'feature_337', 'feature_342',\n",
        "       'feature_347', 'feature_367', 'feature_393'] + ['feature_1',\n",
        "    'feature_6', 'feature_8', 'feature_9', 'feature_16', 'feature_19',\n",
        "    'feature_29', 'feature_35', 'feature_37', 'feature_38', 'feature_40', 'feature_44', 'feature_47', 'feature_56', 'feature_59', 'feature_63', 'feature_65', 'feature_71', 'feature_73', 'feature_76', 'feature_79', 'feature_80', 'feature_83', 'feature_84', 'feature_85', 'feature_96', 'feature_107', 'feature_112', 'feature_114', 'feature_118', 'feature_123', 'feature_128', 'feature_129', 'feature_138', 'feature_139', 'feature_141', 'feature_143', 'feature_148', 'feature_152', 'feature_154', 'feature_158', 'feature_160', 'feature_161', 'feature_162', 'feature_169', 'feature_172', 'feature_173', 'feature_178', 'feature_182', 'feature_183', 'feature_185', 'feature_186', 'feature_191', 'feature_202', 'feature_204', 'feature_205', 'feature_211', 'feature_213', 'feature_214', 'feature_216', 'feature_217', 'feature_218', 'feature_223', 'feature_225', 'feature_226', 'feature_229', 'feature_232', 'feature_234', 'feature_236', 'feature_238', 'feature_243', 'feature_250', 'feature_257', 'feature_259', 'feature_261', 'feature_264', 'feature_265', 'feature_266', 'feature_268', 'feature_272', 'feature_273', 'feature_275', 'feature_277', 'feature_280', 'feature_286', 'feature_293', 'feature_297', 'feature_298', 'feature_301', 'feature_303', 'feature_304', 'feature_309', 'feature_311', 'feature_314', 'feature_316', 'feature_317', 'feature_318', 'feature_323', 'feature_332', 'feature_334', 'feature_335', 'feature_351', 'feature_353', 'feature_355', 'feature_359', 'feature_361', 'feature_363', 'feature_365', 'feature_366', 'feature_369', 'feature_373', 'feature_376', 'feature_377', 'feature_380', 'feature_382', 'feature_385', 'feature_389', 'feature_391', 'feature_392', 'feature_394', 'feature_398', 'feature_399', 'feature_401', 'feature_407', 'feature_408', 'feature_413', 'feature_414', 'feature_417']\n",
        "\n",
        "train = train.drop(columns=columns_to_drop)\n",
        "test = test.drop(columns=columns_to_drop)\n",
        "\n",
        "# train.drop(columns=useless_features, inplace=True)\n",
        "\n",
        "X = train.drop(columns=['target'], axis=1)\n",
        "# X_test = test.drop(columns=['target'], axis=1)\n",
        "y = train['target']\n"
      ],
      "metadata": {
        "id": "jF664qR5qcOm"
      },
      "execution_count": null,
      "outputs": []
    },
    {
      "cell_type": "code",
      "source": [
        "# Определение категориальных признаков\n",
        "categorical_columns = [col for col in X.columns if X[col].nunique() < 30]\n",
        "\n",
        "# Преобразование категориальных признаков в числовой формат\n",
        "for col in categorical_columns:\n",
        "    X[col] = X[col].astype('category').cat.codes\n",
        "\n",
        "# Пересчет размеров категорий\n",
        "categorical_dims = {col: X[col].nunique() for col in categorical_columns}\n",
        "\n",
        "# X_temp, X_test, y_temp, y_test = train_test_split(X, y, test_size=0.15, stratify=y, random_state=42)\n",
        "# X_train, X_val, y_train, y_val = train_test_split(X_temp, y_temp, test_size=0.1765, stratify=y_temp, random_state=42)\n"
      ],
      "metadata": {
        "id": "HXiBv9SDsecw"
      },
      "execution_count": null,
      "outputs": []
    },
    {
      "cell_type": "code",
      "source": [
        "%%capture\n",
        "\n",
        "from openfe import OpenFE\n",
        "ofe = OpenFE()\n",
        "\n",
        "features = ofe.fit(data=X, label=y, task='classification',\n",
        "        categorical_features=categorical_columns,\n",
        "        metric = 'auc', n_data_blocks=8, verbose=-1)\n",
        "\n",
        "import pickle\n",
        "\n",
        "with open('/content/drive/MyDrive/Gagarin hack/features_mazafuq_2.pkl', 'wb') as save:\n",
        "    pickle.dump(features, save)\n",
        "\n",
        "\n",
        "from openfe import transform"
      ],
      "metadata": {
        "id": "GhE9yyrCzlKs"
      },
      "execution_count": null,
      "outputs": []
    },
    {
      "cell_type": "code",
      "source": [
        "def create_new_features(X):\n",
        "    import pickle\n",
        "    from openfe import transform\n",
        "\n",
        "    with open('/content/drive/MyDrive/Gagarin hack/features_mazafuq.pkl', 'rb') as model_file:\n",
        "        features = pickle.load(model_file)\n",
        "\n",
        "    X, X = transform(X, X, features, n_jobs=4)"
      ],
      "metadata": {
        "id": "qDUQNVJXgWaI"
      },
      "execution_count": null,
      "outputs": []
    }
  ],
  "metadata": {
    "colab": {
      "provenance": []
    },
    "kernelspec": {
      "display_name": "Python 3",
      "name": "python3"
    },
    "language_info": {
      "name": "python"
    }
  },
  "nbformat": 4,
  "nbformat_minor": 0
}